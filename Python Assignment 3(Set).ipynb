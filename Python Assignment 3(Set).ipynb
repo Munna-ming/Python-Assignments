{
 "cells": [
  {
   "cell_type": "markdown",
   "id": "d0c9b57a",
   "metadata": {},
   "source": [
    "# Data Types: Set"
   ]
  },
  {
   "cell_type": "markdown",
   "id": "e376a57f",
   "metadata": {},
   "source": [
    "# Q1.  Create an empty set. Prompt the user to enter a number between 1-99. Add the numbers in the set. Repeat 5 times.\n"
   ]
  },
  {
   "cell_type": "code",
   "execution_count": 54,
   "id": "768a6306",
   "metadata": {},
   "outputs": [],
   "source": [
    "set1=set()"
   ]
  },
  {
   "cell_type": "code",
   "execution_count": 55,
   "id": "a4ede580",
   "metadata": {},
   "outputs": [
    {
     "data": {
      "text/plain": [
       "set"
      ]
     },
     "execution_count": 55,
     "metadata": {},
     "output_type": "execute_result"
    }
   ],
   "source": [
    "type(set1)"
   ]
  },
  {
   "cell_type": "code",
   "execution_count": 56,
   "id": "45de6b23",
   "metadata": {},
   "outputs": [
    {
     "name": "stdout",
     "output_type": "stream",
     "text": [
      "Enter num1: 55\n",
      "Enter num2: 65\n",
      "Enter num3: 88\n",
      "Enter num3: 90\n",
      "Enter num3: 23\n"
     ]
    }
   ],
   "source": [
    "set1= {input('Enter num1: '),\n",
    "      input('Enter num2: '),\n",
    "      input('Enter num3: '),\n",
    "        input('Enter num3: '),\n",
    "        input('Enter num3: ')}"
   ]
  },
  {
   "cell_type": "code",
   "execution_count": 57,
   "id": "04719527",
   "metadata": {},
   "outputs": [
    {
     "data": {
      "text/plain": [
       "{'23', '55', '65', '88', '90'}"
      ]
     },
     "execution_count": 57,
     "metadata": {},
     "output_type": "execute_result"
    }
   ],
   "source": [
    "set1"
   ]
  },
  {
   "cell_type": "markdown",
   "id": "1014110b",
   "metadata": {},
   "source": [
    "# or"
   ]
  },
  {
   "cell_type": "code",
   "execution_count": 80,
   "id": "4e7c3c36",
   "metadata": {},
   "outputs": [],
   "source": [
    "set0=set()"
   ]
  },
  {
   "cell_type": "code",
   "execution_count": 81,
   "id": "61804499",
   "metadata": {},
   "outputs": [
    {
     "name": "stdout",
     "output_type": "stream",
     "text": [
      "Enter a no: 56\n"
     ]
    },
    {
     "data": {
      "text/plain": [
       "'56'"
      ]
     },
     "execution_count": 81,
     "metadata": {},
     "output_type": "execute_result"
    }
   ],
   "source": [
    "input('Enter a no: ')"
   ]
  },
  {
   "cell_type": "code",
   "execution_count": 82,
   "id": "1eeb5a59",
   "metadata": {},
   "outputs": [],
   "source": [
    "set0.add(56)"
   ]
  },
  {
   "cell_type": "code",
   "execution_count": 84,
   "id": "1cf408cb",
   "metadata": {},
   "outputs": [
    {
     "name": "stdout",
     "output_type": "stream",
     "text": [
      "Enter a no: 67\n"
     ]
    },
    {
     "data": {
      "text/plain": [
       "'67'"
      ]
     },
     "execution_count": 84,
     "metadata": {},
     "output_type": "execute_result"
    }
   ],
   "source": [
    "input('Enter a no: ')"
   ]
  },
  {
   "cell_type": "code",
   "execution_count": 85,
   "id": "9d5d66d9",
   "metadata": {},
   "outputs": [],
   "source": [
    "set0.add(67)"
   ]
  },
  {
   "cell_type": "code",
   "execution_count": 86,
   "id": "66bb03ab",
   "metadata": {},
   "outputs": [
    {
     "name": "stdout",
     "output_type": "stream",
     "text": [
      "Enter a no: 77\n"
     ]
    },
    {
     "data": {
      "text/plain": [
       "'77'"
      ]
     },
     "execution_count": 86,
     "metadata": {},
     "output_type": "execute_result"
    }
   ],
   "source": [
    "input('Enter a no: ')"
   ]
  },
  {
   "cell_type": "code",
   "execution_count": 87,
   "id": "0a03277c",
   "metadata": {},
   "outputs": [],
   "source": [
    "set0.add(77)"
   ]
  },
  {
   "cell_type": "code",
   "execution_count": 88,
   "id": "211546f9",
   "metadata": {},
   "outputs": [
    {
     "name": "stdout",
     "output_type": "stream",
     "text": [
      "Enter a no: 88\n"
     ]
    },
    {
     "data": {
      "text/plain": [
       "'88'"
      ]
     },
     "execution_count": 88,
     "metadata": {},
     "output_type": "execute_result"
    }
   ],
   "source": [
    "input('Enter a no: ')"
   ]
  },
  {
   "cell_type": "code",
   "execution_count": 89,
   "id": "2142e1ab",
   "metadata": {},
   "outputs": [],
   "source": [
    "set0.add(88)"
   ]
  },
  {
   "cell_type": "code",
   "execution_count": 90,
   "id": "51152d83",
   "metadata": {},
   "outputs": [
    {
     "name": "stdout",
     "output_type": "stream",
     "text": [
      "Enter a no: 90\n"
     ]
    },
    {
     "data": {
      "text/plain": [
       "'90'"
      ]
     },
     "execution_count": 90,
     "metadata": {},
     "output_type": "execute_result"
    }
   ],
   "source": [
    "input('Enter a no: ')"
   ]
  },
  {
   "cell_type": "code",
   "execution_count": 91,
   "id": "0c49edf8",
   "metadata": {},
   "outputs": [],
   "source": [
    "set0.add(90)"
   ]
  },
  {
   "cell_type": "code",
   "execution_count": 92,
   "id": "e2e469df",
   "metadata": {},
   "outputs": [
    {
     "data": {
      "text/plain": [
       "{56, 67, 77, 88, 90}"
      ]
     },
     "execution_count": 92,
     "metadata": {},
     "output_type": "execute_result"
    }
   ],
   "source": [
    "set0"
   ]
  },
  {
   "cell_type": "code",
   "execution_count": 93,
   "id": "bb8f176f",
   "metadata": {},
   "outputs": [],
   "source": [
    "set9=set()"
   ]
  },
  {
   "cell_type": "code",
   "execution_count": 100,
   "id": "83a611c7",
   "metadata": {},
   "outputs": [
    {
     "data": {
      "text/plain": [
       "(None, None, None, None, None)"
      ]
     },
     "execution_count": 100,
     "metadata": {},
     "output_type": "execute_result"
    }
   ],
   "source": [
    "set9.add(56),set9.add(67),set9.add(90),set9.add(56),set9.add(77)"
   ]
  },
  {
   "cell_type": "code",
   "execution_count": 101,
   "id": "1bc5f286",
   "metadata": {},
   "outputs": [
    {
     "data": {
      "text/plain": [
       "{56, 67, 77, 90}"
      ]
     },
     "execution_count": 101,
     "metadata": {},
     "output_type": "execute_result"
    }
   ],
   "source": [
    "set9"
   ]
  },
  {
   "cell_type": "markdown",
   "id": "ad240c38",
   "metadata": {},
   "source": [
    "# Q2. Print the length of the set."
   ]
  },
  {
   "cell_type": "code",
   "execution_count": 58,
   "id": "51c1029d",
   "metadata": {},
   "outputs": [
    {
     "data": {
      "text/plain": [
       "5"
      ]
     },
     "execution_count": 58,
     "metadata": {},
     "output_type": "execute_result"
    }
   ],
   "source": [
    "len(set1)"
   ]
  },
  {
   "cell_type": "markdown",
   "id": "b0f7103c",
   "metadata": {},
   "source": [
    "# Q3. If the length is less than 5 elements, prompt the user again to enter more numbers."
   ]
  },
  {
   "cell_type": "code",
   "execution_count": 59,
   "id": "1366136d",
   "metadata": {},
   "outputs": [
    {
     "data": {
      "text/plain": [
       "{'23', '55', '65', '88', '90'}"
      ]
     },
     "execution_count": 59,
     "metadata": {},
     "output_type": "execute_result"
    }
   ],
   "source": [
    "set1"
   ]
  },
  {
   "cell_type": "markdown",
   "id": "042cc4b6",
   "metadata": {},
   "source": [
    "# Q4. Create another empty set and prompt the user to enter any number between 1-99. Add the numbers in the set. Repeat 5 times.\n"
   ]
  },
  {
   "cell_type": "code",
   "execution_count": 60,
   "id": "7c4e5248",
   "metadata": {},
   "outputs": [],
   "source": [
    "set2=set()"
   ]
  },
  {
   "cell_type": "code",
   "execution_count": 61,
   "id": "2af27cd4",
   "metadata": {},
   "outputs": [
    {
     "name": "stdout",
     "output_type": "stream",
     "text": [
      "Enter any no: 45\n",
      "Enter any no: 67\n",
      "Enter any no: 89\n",
      "Enter any no: 34\n",
      "Enter any no: 22\n"
     ]
    }
   ],
   "source": [
    "set2={input('Enter any no: '),\n",
    "     input('Enter any no: '),\n",
    "     input('Enter any no: '),\n",
    "        input('Enter any no: '),\n",
    "        input('Enter any no: ')}"
   ]
  },
  {
   "cell_type": "code",
   "execution_count": 62,
   "id": "08edb524",
   "metadata": {},
   "outputs": [
    {
     "data": {
      "text/plain": [
       "{'22', '34', '45', '67', '89'}"
      ]
     },
     "execution_count": 62,
     "metadata": {},
     "output_type": "execute_result"
    }
   ],
   "source": [
    "set2"
   ]
  },
  {
   "cell_type": "markdown",
   "id": "76c8dcbb",
   "metadata": {},
   "source": [
    "# Q5.  Check for the following:"
   ]
  },
  {
   "cell_type": "markdown",
   "id": "4b64f164",
   "metadata": {},
   "source": [
    "# a. Does both the sets have any numbers in common?"
   ]
  },
  {
   "cell_type": "code",
   "execution_count": 63,
   "id": "1eccc7b0",
   "metadata": {},
   "outputs": [
    {
     "data": {
      "text/plain": [
       "{'23', '55', '65', '88', '90'}"
      ]
     },
     "execution_count": 63,
     "metadata": {},
     "output_type": "execute_result"
    }
   ],
   "source": [
    "set1"
   ]
  },
  {
   "cell_type": "code",
   "execution_count": 64,
   "id": "8c5947bd",
   "metadata": {},
   "outputs": [
    {
     "data": {
      "text/plain": [
       "{'22', '34', '45', '67', '89'}"
      ]
     },
     "execution_count": 64,
     "metadata": {},
     "output_type": "execute_result"
    }
   ],
   "source": [
    "set2"
   ]
  },
  {
   "cell_type": "code",
   "execution_count": 65,
   "id": "92b49a57",
   "metadata": {},
   "outputs": [],
   "source": [
    "set3 = set1.intersection(set2)"
   ]
  },
  {
   "cell_type": "code",
   "execution_count": 66,
   "id": "25613e20",
   "metadata": {},
   "outputs": [
    {
     "data": {
      "text/plain": [
       "set()"
      ]
     },
     "execution_count": 66,
     "metadata": {},
     "output_type": "execute_result"
    }
   ],
   "source": [
    "set3"
   ]
  },
  {
   "cell_type": "markdown",
   "id": "43b56cc3",
   "metadata": {},
   "source": [
    "# b. Are both sets disjoint?"
   ]
  },
  {
   "cell_type": "code",
   "execution_count": 67,
   "id": "8d646c6c",
   "metadata": {},
   "outputs": [
    {
     "data": {
      "text/plain": [
       "True"
      ]
     },
     "execution_count": 67,
     "metadata": {},
     "output_type": "execute_result"
    }
   ],
   "source": [
    "set1.isdisjoint(set2)"
   ]
  },
  {
   "cell_type": "code",
   "execution_count": 68,
   "id": "4bb4b850",
   "metadata": {},
   "outputs": [
    {
     "data": {
      "text/plain": [
       "True"
      ]
     },
     "execution_count": 68,
     "metadata": {},
     "output_type": "execute_result"
    }
   ],
   "source": [
    "set2.isdisjoint(set1)"
   ]
  },
  {
   "cell_type": "markdown",
   "id": "9e173ad9",
   "metadata": {},
   "source": [
    "# Q6. From the two sets, get the elements which are unique to each set (only present in either of the set)."
   ]
  },
  {
   "cell_type": "code",
   "execution_count": 69,
   "id": "44cfef4b",
   "metadata": {},
   "outputs": [
    {
     "data": {
      "text/plain": [
       "{'23', '55', '65', '88', '90'}"
      ]
     },
     "execution_count": 69,
     "metadata": {},
     "output_type": "execute_result"
    }
   ],
   "source": [
    "set1"
   ]
  },
  {
   "cell_type": "code",
   "execution_count": 70,
   "id": "79478913",
   "metadata": {},
   "outputs": [
    {
     "data": {
      "text/plain": [
       "{'22', '34', '45', '67', '89'}"
      ]
     },
     "execution_count": 70,
     "metadata": {},
     "output_type": "execute_result"
    }
   ],
   "source": [
    "set2"
   ]
  },
  {
   "cell_type": "code",
   "execution_count": 71,
   "id": "81a63c6c",
   "metadata": {},
   "outputs": [
    {
     "data": {
      "text/plain": [
       "{'22', '23', '34', '45', '55', '65', '67', '88', '89', '90'}"
      ]
     },
     "execution_count": 71,
     "metadata": {},
     "output_type": "execute_result"
    }
   ],
   "source": [
    "set1.union(set2)"
   ]
  },
  {
   "cell_type": "markdown",
   "id": "62ad0c5e",
   "metadata": {},
   "source": [
    "# Q7. Create a set containing names of any 10 animals."
   ]
  },
  {
   "cell_type": "code",
   "execution_count": 72,
   "id": "50fe59c6",
   "metadata": {},
   "outputs": [],
   "source": [
    "set4={'cat','cow','snake','dog','rhino','hippo','buffalo','Tiger','cheetah','fox'}"
   ]
  },
  {
   "cell_type": "code",
   "execution_count": 73,
   "id": "fd2b3372",
   "metadata": {},
   "outputs": [
    {
     "data": {
      "text/plain": [
       "{'Tiger',\n",
       " 'buffalo',\n",
       " 'cat',\n",
       " 'cheetah',\n",
       " 'cow',\n",
       " 'dog',\n",
       " 'fox',\n",
       " 'hippo',\n",
       " 'rhino',\n",
       " 'snake'}"
      ]
     },
     "execution_count": 73,
     "metadata": {},
     "output_type": "execute_result"
    }
   ],
   "source": [
    "set4"
   ]
  },
  {
   "cell_type": "markdown",
   "id": "8d5272d4",
   "metadata": {},
   "source": [
    "# Q8. Create an empty set. Prompt the user to enter their favourite animal."
   ]
  },
  {
   "cell_type": "code",
   "execution_count": 74,
   "id": "ee402a41",
   "metadata": {},
   "outputs": [],
   "source": [
    "set5=set()"
   ]
  },
  {
   "cell_type": "code",
   "execution_count": 75,
   "id": "76be1e66",
   "metadata": {},
   "outputs": [
    {
     "name": "stdout",
     "output_type": "stream",
     "text": [
      "Enter your favourite animal: Lion\n"
     ]
    }
   ],
   "source": [
    "set5=input('Enter your favourite animal: ')"
   ]
  },
  {
   "cell_type": "code",
   "execution_count": 76,
   "id": "c549a9ad",
   "metadata": {},
   "outputs": [
    {
     "data": {
      "text/plain": [
       "'Lion'"
      ]
     },
     "execution_count": 76,
     "metadata": {},
     "output_type": "execute_result"
    }
   ],
   "source": [
    "set5"
   ]
  },
  {
   "cell_type": "markdown",
   "id": "3a26e841",
   "metadata": {},
   "source": [
    "# Q9. Does their favourite animal exists in the set created by you?"
   ]
  },
  {
   "cell_type": "code",
   "execution_count": 77,
   "id": "c04b424a",
   "metadata": {},
   "outputs": [
    {
     "data": {
      "text/plain": [
       "set()"
      ]
     },
     "execution_count": 77,
     "metadata": {},
     "output_type": "execute_result"
    }
   ],
   "source": [
    "set4.intersection(set5)"
   ]
  },
  {
   "cell_type": "code",
   "execution_count": 78,
   "id": "e3550e43",
   "metadata": {},
   "outputs": [
    {
     "data": {
      "text/plain": [
       "{'Tiger',\n",
       " 'buffalo',\n",
       " 'cat',\n",
       " 'cheetah',\n",
       " 'cow',\n",
       " 'dog',\n",
       " 'fox',\n",
       " 'hippo',\n",
       " 'rhino',\n",
       " 'snake'}"
      ]
     },
     "execution_count": 78,
     "metadata": {},
     "output_type": "execute_result"
    }
   ],
   "source": [
    "set4"
   ]
  },
  {
   "cell_type": "code",
   "execution_count": 79,
   "id": "12b0ab86",
   "metadata": {},
   "outputs": [
    {
     "data": {
      "text/plain": [
       "'Lion'"
      ]
     },
     "execution_count": 79,
     "metadata": {},
     "output_type": "execute_result"
    }
   ],
   "source": [
    "set5"
   ]
  },
  {
   "cell_type": "code",
   "execution_count": null,
   "id": "5e65ade1",
   "metadata": {},
   "outputs": [],
   "source": []
  }
 ],
 "metadata": {
  "kernelspec": {
   "display_name": "Python 3 (ipykernel)",
   "language": "python",
   "name": "python3"
  },
  "language_info": {
   "codemirror_mode": {
    "name": "ipython",
    "version": 3
   },
   "file_extension": ".py",
   "mimetype": "text/x-python",
   "name": "python",
   "nbconvert_exporter": "python",
   "pygments_lexer": "ipython3",
   "version": "3.11.3"
  }
 },
 "nbformat": 4,
 "nbformat_minor": 5
}
