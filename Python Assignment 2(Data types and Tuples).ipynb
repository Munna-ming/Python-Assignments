{
 "cells": [
  {
   "cell_type": "markdown",
   "id": "aacbe34b",
   "metadata": {},
   "source": [
    "# Q1. Create an empty list. Prompt the user to enter a city name in India. Append the city names in the list. Repeat until 5 cities."
   ]
  },
  {
   "cell_type": "code",
   "execution_count": 1,
   "id": "93f8de00",
   "metadata": {},
   "outputs": [],
   "source": [
    "Cities=[]"
   ]
  },
  {
   "cell_type": "code",
   "execution_count": 2,
   "id": "395a4b3c",
   "metadata": {},
   "outputs": [
    {
     "name": "stdout",
     "output_type": "stream",
     "text": [
      "Enter a city name in India: Jaipur\n"
     ]
    }
   ],
   "source": [
    "Cities=[input('Enter a city name in India: ')]"
   ]
  },
  {
   "cell_type": "code",
   "execution_count": 3,
   "id": "db321563",
   "metadata": {},
   "outputs": [
    {
     "data": {
      "text/plain": [
       "['Jaipur']"
      ]
     },
     "execution_count": 3,
     "metadata": {},
     "output_type": "execute_result"
    }
   ],
   "source": [
    "Cities"
   ]
  },
  {
   "cell_type": "code",
   "execution_count": 4,
   "id": "016853c5",
   "metadata": {},
   "outputs": [],
   "source": [
    "Cities.append('Ranchi')\n",
    "Cities.append('Hyderabad')\n",
    "Cities.append('Mumbai')\n",
    "Cities.append('Maharashtra')\n",
    "Cities.append('Purnea')"
   ]
  },
  {
   "cell_type": "code",
   "execution_count": 5,
   "id": "12f5395d",
   "metadata": {},
   "outputs": [
    {
     "data": {
      "text/plain": [
       "['Jaipur', 'Ranchi', 'Hyderabad', 'Mumbai', 'Maharashtra', 'Purnea']"
      ]
     },
     "execution_count": 5,
     "metadata": {},
     "output_type": "execute_result"
    }
   ],
   "source": [
    "Cities"
   ]
  },
  {
   "cell_type": "markdown",
   "id": "6f3d966d",
   "metadata": {},
   "source": [
    "# Q2. Print the index of all the cities.\n"
   ]
  },
  {
   "cell_type": "code",
   "execution_count": 6,
   "id": "0c0e57fa",
   "metadata": {},
   "outputs": [
    {
     "data": {
      "text/plain": [
       "['Jaipur', 'Ranchi', 'Hyderabad', 'Mumbai', 'Maharashtra', 'Purnea']"
      ]
     },
     "execution_count": 6,
     "metadata": {},
     "output_type": "execute_result"
    }
   ],
   "source": [
    "Cities"
   ]
  },
  {
   "cell_type": "code",
   "execution_count": 7,
   "id": "9bd9dd5b",
   "metadata": {},
   "outputs": [
    {
     "name": "stdout",
     "output_type": "stream",
     "text": [
      "0 1 2 3 4 5\n"
     ]
    }
   ],
   "source": [
    "print(Cities.index('Jaipur'),Cities.index('Ranchi'),Cities.index('Hyderabad'),Cities.index('Mumbai'),\n",
    "      Cities.index('Maharashtra'),Cities.index('Purnea'))"
   ]
  },
  {
   "cell_type": "markdown",
   "id": "791a8826",
   "metadata": {},
   "source": [
    "# Q3. Swap the first and last cities."
   ]
  },
  {
   "cell_type": "code",
   "execution_count": 8,
   "id": "b48bac3a",
   "metadata": {},
   "outputs": [
    {
     "data": {
      "text/plain": [
       "['Jaipur', 'Ranchi', 'Hyderabad', 'Mumbai', 'Maharashtra', 'Purnea']"
      ]
     },
     "execution_count": 8,
     "metadata": {},
     "output_type": "execute_result"
    }
   ],
   "source": [
    "Cities"
   ]
  },
  {
   "cell_type": "code",
   "execution_count": 9,
   "id": "b4c104da",
   "metadata": {},
   "outputs": [],
   "source": [
    "Cities[0],Cities[-1]  = Cities[-1],Cities[0]"
   ]
  },
  {
   "cell_type": "code",
   "execution_count": 10,
   "id": "25a7b2eb",
   "metadata": {},
   "outputs": [
    {
     "data": {
      "text/plain": [
       "['Purnea', 'Ranchi', 'Hyderabad', 'Mumbai', 'Maharashtra', 'Jaipur']"
      ]
     },
     "execution_count": 10,
     "metadata": {},
     "output_type": "execute_result"
    }
   ],
   "source": [
    "Cities"
   ]
  },
  {
   "cell_type": "markdown",
   "id": "1fea5417",
   "metadata": {},
   "source": [
    "# Q4. Change the cities in the third and fourth position to ‘Berlin’ and ‘Rome’."
   ]
  },
  {
   "cell_type": "code",
   "execution_count": 11,
   "id": "faccb0ea",
   "metadata": {},
   "outputs": [
    {
     "data": {
      "text/plain": [
       "['Purnea', 'Ranchi', 'Hyderabad', 'Mumbai', 'Maharashtra', 'Jaipur']"
      ]
     },
     "execution_count": 11,
     "metadata": {},
     "output_type": "execute_result"
    }
   ],
   "source": [
    "Cities"
   ]
  },
  {
   "cell_type": "code",
   "execution_count": 12,
   "id": "7e8581a4",
   "metadata": {},
   "outputs": [],
   "source": [
    "Cities.insert(3,'Berlin')"
   ]
  },
  {
   "cell_type": "code",
   "execution_count": 13,
   "id": "164da081",
   "metadata": {},
   "outputs": [],
   "source": [
    "Cities.insert(4,'Rome')"
   ]
  },
  {
   "cell_type": "code",
   "execution_count": 14,
   "id": "71e3589a",
   "metadata": {},
   "outputs": [
    {
     "data": {
      "text/plain": [
       "['Purnea',\n",
       " 'Ranchi',\n",
       " 'Hyderabad',\n",
       " 'Berlin',\n",
       " 'Rome',\n",
       " 'Mumbai',\n",
       " 'Maharashtra',\n",
       " 'Jaipur']"
      ]
     },
     "execution_count": 14,
     "metadata": {},
     "output_type": "execute_result"
    }
   ],
   "source": [
    "Cities"
   ]
  },
  {
   "cell_type": "markdown",
   "id": "52af0806",
   "metadata": {},
   "source": [
    "# Q5. Slice the names Berlin and Rome and store in a new list for international cities."
   ]
  },
  {
   "cell_type": "code",
   "execution_count": 15,
   "id": "b088933d",
   "metadata": {},
   "outputs": [
    {
     "data": {
      "text/plain": [
       "['Purnea',\n",
       " 'Ranchi',\n",
       " 'Hyderabad',\n",
       " 'Berlin',\n",
       " 'Rome',\n",
       " 'Mumbai',\n",
       " 'Maharashtra',\n",
       " 'Jaipur']"
      ]
     },
     "execution_count": 15,
     "metadata": {},
     "output_type": "execute_result"
    }
   ],
   "source": [
    "Cities"
   ]
  },
  {
   "cell_type": "code",
   "execution_count": 16,
   "id": "6618da6d",
   "metadata": {},
   "outputs": [
    {
     "data": {
      "text/plain": [
       "['Berlin', 'Rome']"
      ]
     },
     "execution_count": 16,
     "metadata": {},
     "output_type": "execute_result"
    }
   ],
   "source": [
    "Cities[3:-3]"
   ]
  },
  {
   "cell_type": "code",
   "execution_count": 17,
   "id": "b702ecd8",
   "metadata": {},
   "outputs": [],
   "source": [
    "Cities.remove('Berlin')"
   ]
  },
  {
   "cell_type": "code",
   "execution_count": 18,
   "id": "598f7bb6",
   "metadata": {},
   "outputs": [],
   "source": [
    "Cities.remove('Rome')"
   ]
  },
  {
   "cell_type": "code",
   "execution_count": 19,
   "id": "23b1d2fe",
   "metadata": {},
   "outputs": [
    {
     "data": {
      "text/plain": [
       "['Purnea', 'Ranchi', 'Hyderabad', 'Mumbai', 'Maharashtra', 'Jaipur']"
      ]
     },
     "execution_count": 19,
     "metadata": {},
     "output_type": "execute_result"
    }
   ],
   "source": [
    "Cities"
   ]
  },
  {
   "cell_type": "code",
   "execution_count": 20,
   "id": "ef8e4730",
   "metadata": {},
   "outputs": [],
   "source": [
    "Internationalcities=['Berlin','Rome']"
   ]
  },
  {
   "cell_type": "code",
   "execution_count": 21,
   "id": "21d39dd7",
   "metadata": {},
   "outputs": [
    {
     "data": {
      "text/plain": [
       "['Berlin', 'Rome']"
      ]
     },
     "execution_count": 21,
     "metadata": {},
     "output_type": "execute_result"
    }
   ],
   "source": [
    "Internationalcities"
   ]
  },
  {
   "cell_type": "markdown",
   "id": "c1ec3b8f",
   "metadata": {},
   "source": [
    "# Q6. Prompt the user to enter 3 more international cities."
   ]
  },
  {
   "cell_type": "code",
   "execution_count": 22,
   "id": "51b042e6",
   "metadata": {},
   "outputs": [
    {
     "data": {
      "text/plain": [
       "['Purnea', 'Ranchi', 'Hyderabad', 'Mumbai', 'Maharashtra', 'Jaipur']"
      ]
     },
     "execution_count": 22,
     "metadata": {},
     "output_type": "execute_result"
    }
   ],
   "source": [
    "Cities"
   ]
  },
  {
   "cell_type": "code",
   "execution_count": 23,
   "id": "6734bbdb",
   "metadata": {},
   "outputs": [
    {
     "data": {
      "text/plain": [
       "['Berlin', 'Rome']"
      ]
     },
     "execution_count": 23,
     "metadata": {},
     "output_type": "execute_result"
    }
   ],
   "source": [
    "Internationalcities"
   ]
  },
  {
   "cell_type": "code",
   "execution_count": 24,
   "id": "ccacb5f0",
   "metadata": {},
   "outputs": [
    {
     "name": "stdout",
     "output_type": "stream",
     "text": [
      "Enter first international city:Tokyo\n",
      "Enter second international city:Quatar\n",
      "Enter third international city:Australia\n"
     ]
    }
   ],
   "source": [
    "New_internationalcities=[input('Enter first international city:'),\n",
    "                     input('Enter second international city:'),\n",
    "                     input('Enter third international city:')]"
   ]
  },
  {
   "cell_type": "code",
   "execution_count": 25,
   "id": "1acca514",
   "metadata": {},
   "outputs": [
    {
     "data": {
      "text/plain": [
       "['Tokyo', 'Quatar', 'Australia']"
      ]
     },
     "execution_count": 25,
     "metadata": {},
     "output_type": "execute_result"
    }
   ],
   "source": [
    "New_internationalcities"
   ]
  },
  {
   "cell_type": "code",
   "execution_count": 26,
   "id": "508688ed",
   "metadata": {},
   "outputs": [],
   "source": [
    "Internationalcities.extend(New_internationalcities)"
   ]
  },
  {
   "cell_type": "code",
   "execution_count": 27,
   "id": "b56b80ca",
   "metadata": {},
   "outputs": [
    {
     "data": {
      "text/plain": [
       "['Berlin', 'Rome', 'Tokyo', 'Quatar', 'Australia']"
      ]
     },
     "execution_count": 27,
     "metadata": {},
     "output_type": "execute_result"
    }
   ],
   "source": [
    "Internationalcities"
   ]
  },
  {
   "cell_type": "markdown",
   "id": "9a3714d1",
   "metadata": {},
   "source": [
    "# Q7. Print the length of both the lists."
   ]
  },
  {
   "cell_type": "code",
   "execution_count": 28,
   "id": "4936f45a",
   "metadata": {},
   "outputs": [
    {
     "data": {
      "text/plain": [
       "5"
      ]
     },
     "execution_count": 28,
     "metadata": {},
     "output_type": "execute_result"
    }
   ],
   "source": [
    "len(Internationalcities)"
   ]
  },
  {
   "cell_type": "code",
   "execution_count": 29,
   "id": "70c0b2b7",
   "metadata": {},
   "outputs": [
    {
     "data": {
      "text/plain": [
       "6"
      ]
     },
     "execution_count": 29,
     "metadata": {},
     "output_type": "execute_result"
    }
   ],
   "source": [
    "len(Cities)"
   ]
  },
  {
   "cell_type": "markdown",
   "id": "c086e4da",
   "metadata": {},
   "source": [
    "# Q8. Combine both the list with International cities first then Reverse the list. The final list should have Indian cities first then international cities."
   ]
  },
  {
   "cell_type": "code",
   "execution_count": 30,
   "id": "05e848ff",
   "metadata": {},
   "outputs": [
    {
     "data": {
      "text/plain": [
       "['Berlin', 'Rome', 'Tokyo', 'Quatar', 'Australia']"
      ]
     },
     "execution_count": 30,
     "metadata": {},
     "output_type": "execute_result"
    }
   ],
   "source": [
    "Internationalcities"
   ]
  },
  {
   "cell_type": "code",
   "execution_count": 31,
   "id": "08864b69",
   "metadata": {},
   "outputs": [
    {
     "data": {
      "text/plain": [
       "['Purnea', 'Ranchi', 'Hyderabad', 'Mumbai', 'Maharashtra', 'Jaipur']"
      ]
     },
     "execution_count": 31,
     "metadata": {},
     "output_type": "execute_result"
    }
   ],
   "source": [
    "Cities"
   ]
  },
  {
   "cell_type": "code",
   "execution_count": 32,
   "id": "441d1053",
   "metadata": {},
   "outputs": [],
   "source": [
    "Internationalcities.extend(Cities)"
   ]
  },
  {
   "cell_type": "code",
   "execution_count": 33,
   "id": "9d32b056",
   "metadata": {},
   "outputs": [
    {
     "data": {
      "text/plain": [
       "['Berlin',\n",
       " 'Rome',\n",
       " 'Tokyo',\n",
       " 'Quatar',\n",
       " 'Australia',\n",
       " 'Purnea',\n",
       " 'Ranchi',\n",
       " 'Hyderabad',\n",
       " 'Mumbai',\n",
       " 'Maharashtra',\n",
       " 'Jaipur']"
      ]
     },
     "execution_count": 33,
     "metadata": {},
     "output_type": "execute_result"
    }
   ],
   "source": [
    "Internationalcities"
   ]
  },
  {
   "cell_type": "code",
   "execution_count": 34,
   "id": "05582395",
   "metadata": {},
   "outputs": [],
   "source": [
    "Internationalcities.reverse()"
   ]
  },
  {
   "cell_type": "code",
   "execution_count": 35,
   "id": "167cfffc",
   "metadata": {},
   "outputs": [
    {
     "data": {
      "text/plain": [
       "['Jaipur',\n",
       " 'Maharashtra',\n",
       " 'Mumbai',\n",
       " 'Hyderabad',\n",
       " 'Ranchi',\n",
       " 'Purnea',\n",
       " 'Australia',\n",
       " 'Quatar',\n",
       " 'Tokyo',\n",
       " 'Rome',\n",
       " 'Berlin']"
      ]
     },
     "execution_count": 35,
     "metadata": {},
     "output_type": "execute_result"
    }
   ],
   "source": [
    "Internationalcities"
   ]
  },
  {
   "cell_type": "markdown",
   "id": "1a776f5b",
   "metadata": {},
   "source": [
    "# Q9. Remove the city at the third position."
   ]
  },
  {
   "cell_type": "code",
   "execution_count": 36,
   "id": "0580a3e0",
   "metadata": {},
   "outputs": [
    {
     "data": {
      "text/plain": [
       "['Jaipur',\n",
       " 'Maharashtra',\n",
       " 'Mumbai',\n",
       " 'Hyderabad',\n",
       " 'Ranchi',\n",
       " 'Purnea',\n",
       " 'Australia',\n",
       " 'Quatar',\n",
       " 'Tokyo',\n",
       " 'Rome',\n",
       " 'Berlin']"
      ]
     },
     "execution_count": 36,
     "metadata": {},
     "output_type": "execute_result"
    }
   ],
   "source": [
    "Internationalcities"
   ]
  },
  {
   "cell_type": "code",
   "execution_count": 37,
   "id": "977a37cc",
   "metadata": {},
   "outputs": [],
   "source": [
    "Internationalcities.remove('Hyderabad')"
   ]
  },
  {
   "cell_type": "code",
   "execution_count": 38,
   "id": "ff030bec",
   "metadata": {},
   "outputs": [
    {
     "data": {
      "text/plain": [
       "['Jaipur',\n",
       " 'Maharashtra',\n",
       " 'Mumbai',\n",
       " 'Ranchi',\n",
       " 'Purnea',\n",
       " 'Australia',\n",
       " 'Quatar',\n",
       " 'Tokyo',\n",
       " 'Rome',\n",
       " 'Berlin']"
      ]
     },
     "execution_count": 38,
     "metadata": {},
     "output_type": "execute_result"
    }
   ],
   "source": [
    "Internationalcities"
   ]
  },
  {
   "cell_type": "markdown",
   "id": "a966a32c",
   "metadata": {},
   "source": [
    "# Q10. Below is given a list of words. Combine them to for a String sentence in upper case:\n",
    "['Delhi', 'is', 'a', 'bustling', 'metropolis', 'that', 'seamlessly', 'blends', 'a', 'rich', 'historical', 'past', 'with',\n",
    "'the', 'modern', 'world.', 'It', 'has', 'a', 'deep-rooted', 'history', 'dating', 'back', 'thousands', 'of', 'years,',\n",
    "'making', 'it', 'one', 'of', 'the', 'oldest', 'continuously', 'inhabited', 'cities', 'in', 'the', 'world.']"
   ]
  },
  {
   "cell_type": "code",
   "execution_count": 39,
   "id": "bb3c143a",
   "metadata": {},
   "outputs": [],
   "source": [
    "Text= ['Delhi', 'is', 'a', 'bustling', 'metropolis', 'that', 'seamlessly', 'blends', 'a', 'rich', 'historical', 'past', 'with',\n",
    "'the', 'modern', 'world.', 'It', 'has', 'a', 'deep-rooted', 'history', 'dating', 'back', 'thousands', 'of', 'years,',\n",
    "'making', 'it', 'one', 'of', 'the', 'oldest', 'continuously', 'inhabited', 'cities', 'in', 'the', 'world.']"
   ]
  },
  {
   "cell_type": "code",
   "execution_count": 40,
   "id": "f2e50f69",
   "metadata": {},
   "outputs": [
    {
     "name": "stdout",
     "output_type": "stream",
     "text": [
      "Delhi is a bustling metropolis that seamlessly blends a rich historical past with the modern world. It has a deep-rooted history dating back thousands of years, making it one of the oldest continuously inhabited cities in the world.\n"
     ]
    }
   ],
   "source": [
    "print(\" \".join(Text))"
   ]
  },
  {
   "cell_type": "code",
   "execution_count": 41,
   "id": "3c3db4bf",
   "metadata": {},
   "outputs": [],
   "source": [
    "text=(\"\"\"Delhi is a bustling metropolis that seamlessly blends a rich historical past with the modern world. \n",
    "It has a deep-rooted history dating back thousands of years, making it one of the oldest continuously \n",
    " inhabited cities in the world.\"\"\").upper()"
   ]
  },
  {
   "cell_type": "code",
   "execution_count": 42,
   "id": "f9c502b9",
   "metadata": {},
   "outputs": [
    {
     "data": {
      "text/plain": [
       "'DELHI IS A BUSTLING METROPOLIS THAT SEAMLESSLY BLENDS A RICH HISTORICAL PAST WITH THE MODERN WORLD. \\nIT HAS A DEEP-ROOTED HISTORY DATING BACK THOUSANDS OF YEARS, MAKING IT ONE OF THE OLDEST CONTINUOUSLY \\n INHABITED CITIES IN THE WORLD.'"
      ]
     },
     "execution_count": 42,
     "metadata": {},
     "output_type": "execute_result"
    }
   ],
   "source": [
    "text"
   ]
  },
  {
   "cell_type": "markdown",
   "id": "b5c805c2",
   "metadata": {},
   "source": [
    "# Q11. Cast the final list of cities formed in the previous question into tuple."
   ]
  },
  {
   "cell_type": "code",
   "execution_count": 43,
   "id": "682b7cfa",
   "metadata": {},
   "outputs": [
    {
     "data": {
      "text/plain": [
       "['Jaipur',\n",
       " 'Maharashtra',\n",
       " 'Mumbai',\n",
       " 'Ranchi',\n",
       " 'Purnea',\n",
       " 'Australia',\n",
       " 'Quatar',\n",
       " 'Tokyo',\n",
       " 'Rome',\n",
       " 'Berlin']"
      ]
     },
     "execution_count": 43,
     "metadata": {},
     "output_type": "execute_result"
    }
   ],
   "source": [
    "Internationalcities"
   ]
  },
  {
   "cell_type": "code",
   "execution_count": 44,
   "id": "07cb9470",
   "metadata": {},
   "outputs": [],
   "source": [
    "New_Cities=tuple(Internationalcities)"
   ]
  },
  {
   "cell_type": "code",
   "execution_count": 45,
   "id": "49ab4dba",
   "metadata": {},
   "outputs": [
    {
     "data": {
      "text/plain": [
       "('Jaipur',\n",
       " 'Maharashtra',\n",
       " 'Mumbai',\n",
       " 'Ranchi',\n",
       " 'Purnea',\n",
       " 'Australia',\n",
       " 'Quatar',\n",
       " 'Tokyo',\n",
       " 'Rome',\n",
       " 'Berlin')"
      ]
     },
     "execution_count": 45,
     "metadata": {},
     "output_type": "execute_result"
    }
   ],
   "source": [
    "New_Cities"
   ]
  },
  {
   "cell_type": "markdown",
   "id": "84df2f9d",
   "metadata": {},
   "source": [
    "# Q12. Slice the resulting tuple so as to get the first two cities. Then swap the position of first and last for both tuples."
   ]
  },
  {
   "cell_type": "code",
   "execution_count": 46,
   "id": "dbc76579",
   "metadata": {},
   "outputs": [
    {
     "data": {
      "text/plain": [
       "('Jaipur',\n",
       " 'Maharashtra',\n",
       " 'Mumbai',\n",
       " 'Ranchi',\n",
       " 'Purnea',\n",
       " 'Australia',\n",
       " 'Quatar',\n",
       " 'Tokyo',\n",
       " 'Rome',\n",
       " 'Berlin')"
      ]
     },
     "execution_count": 46,
     "metadata": {},
     "output_type": "execute_result"
    }
   ],
   "source": [
    "New_Cities"
   ]
  },
  {
   "cell_type": "code",
   "execution_count": 47,
   "id": "a1776a68",
   "metadata": {},
   "outputs": [],
   "source": [
    "Small=New_Cities[0:2:]"
   ]
  },
  {
   "cell_type": "code",
   "execution_count": 48,
   "id": "9037a8cf",
   "metadata": {},
   "outputs": [
    {
     "data": {
      "text/plain": [
       "('Jaipur', 'Maharashtra')"
      ]
     },
     "execution_count": 48,
     "metadata": {},
     "output_type": "execute_result"
    }
   ],
   "source": [
    "Small"
   ]
  },
  {
   "cell_type": "code",
   "execution_count": 49,
   "id": "387f61e7",
   "metadata": {},
   "outputs": [
    {
     "data": {
      "text/plain": [
       "('Jaipur',\n",
       " 'Maharashtra',\n",
       " 'Mumbai',\n",
       " 'Ranchi',\n",
       " 'Purnea',\n",
       " 'Australia',\n",
       " 'Quatar',\n",
       " 'Tokyo',\n",
       " 'Rome',\n",
       " 'Berlin')"
      ]
     },
     "execution_count": 49,
     "metadata": {},
     "output_type": "execute_result"
    }
   ],
   "source": [
    "New_Cities"
   ]
  },
  {
   "cell_type": "code",
   "execution_count": 50,
   "id": "cc153cd2",
   "metadata": {},
   "outputs": [],
   "source": [
    "City=list(New_Cities)"
   ]
  },
  {
   "cell_type": "code",
   "execution_count": 51,
   "id": "b2d65015",
   "metadata": {},
   "outputs": [
    {
     "data": {
      "text/plain": [
       "['Jaipur',\n",
       " 'Maharashtra',\n",
       " 'Mumbai',\n",
       " 'Ranchi',\n",
       " 'Purnea',\n",
       " 'Australia',\n",
       " 'Quatar',\n",
       " 'Tokyo',\n",
       " 'Rome',\n",
       " 'Berlin']"
      ]
     },
     "execution_count": 51,
     "metadata": {},
     "output_type": "execute_result"
    }
   ],
   "source": [
    "City"
   ]
  },
  {
   "cell_type": "code",
   "execution_count": 52,
   "id": "1c69d2e6",
   "metadata": {},
   "outputs": [],
   "source": [
    "City[0],City[-1]  = City[-1],City[0]"
   ]
  },
  {
   "cell_type": "code",
   "execution_count": 53,
   "id": "742d2e02",
   "metadata": {},
   "outputs": [
    {
     "data": {
      "text/plain": [
       "['Berlin',\n",
       " 'Maharashtra',\n",
       " 'Mumbai',\n",
       " 'Ranchi',\n",
       " 'Purnea',\n",
       " 'Australia',\n",
       " 'Quatar',\n",
       " 'Tokyo',\n",
       " 'Rome',\n",
       " 'Jaipur']"
      ]
     },
     "execution_count": 53,
     "metadata": {},
     "output_type": "execute_result"
    }
   ],
   "source": [
    "City"
   ]
  },
  {
   "cell_type": "code",
   "execution_count": 54,
   "id": "17be3e92",
   "metadata": {},
   "outputs": [],
   "source": [
    "City_tuple=tuple(City)"
   ]
  },
  {
   "cell_type": "code",
   "execution_count": 55,
   "id": "be4e7a74",
   "metadata": {},
   "outputs": [
    {
     "data": {
      "text/plain": [
       "['Berlin',\n",
       " 'Maharashtra',\n",
       " 'Mumbai',\n",
       " 'Ranchi',\n",
       " 'Purnea',\n",
       " 'Australia',\n",
       " 'Quatar',\n",
       " 'Tokyo',\n",
       " 'Rome',\n",
       " 'Jaipur']"
      ]
     },
     "execution_count": 55,
     "metadata": {},
     "output_type": "execute_result"
    }
   ],
   "source": [
    "City"
   ]
  },
  {
   "cell_type": "markdown",
   "id": "4397fe10",
   "metadata": {},
   "source": [
    "# Q13. Check the length of both the tuples. Add any 5 international cities in the smaller tuple."
   ]
  },
  {
   "cell_type": "code",
   "execution_count": 56,
   "id": "ded0dab2",
   "metadata": {},
   "outputs": [
    {
     "data": {
      "text/plain": [
       "10"
      ]
     },
     "execution_count": 56,
     "metadata": {},
     "output_type": "execute_result"
    }
   ],
   "source": [
    "len(City)"
   ]
  },
  {
   "cell_type": "code",
   "execution_count": 57,
   "id": "65183049",
   "metadata": {},
   "outputs": [
    {
     "data": {
      "text/plain": [
       "2"
      ]
     },
     "execution_count": 57,
     "metadata": {},
     "output_type": "execute_result"
    }
   ],
   "source": [
    "len(Small)"
   ]
  },
  {
   "cell_type": "code",
   "execution_count": 58,
   "id": "aef64577",
   "metadata": {},
   "outputs": [
    {
     "name": "stdout",
     "output_type": "stream",
     "text": [
      "Enter first international city: Seoul\n",
      "Enter second international city: Japan\n",
      "Enter third international city: Hiroshima\n",
      "Enter fourth international city: Nagashaki\n",
      "Enter five international city: South Korea\n"
     ]
    }
   ],
   "source": [
    "small=[input('Enter first international city: '),\n",
    "      input('Enter second international city: '),\n",
    "      input('Enter third international city: '),\n",
    "        input('Enter fourth international city: '),\n",
    "        input('Enter five international city: ')]"
   ]
  },
  {
   "cell_type": "code",
   "execution_count": 59,
   "id": "905135a2",
   "metadata": {},
   "outputs": [
    {
     "data": {
      "text/plain": [
       "['Seoul', 'Japan', 'Hiroshima', 'Nagashaki', 'South Korea']"
      ]
     },
     "execution_count": 59,
     "metadata": {},
     "output_type": "execute_result"
    }
   ],
   "source": [
    "small"
   ]
  },
  {
   "cell_type": "code",
   "execution_count": 60,
   "id": "d0c2ad57",
   "metadata": {},
   "outputs": [],
   "source": [
    "small.append(Small)"
   ]
  },
  {
   "cell_type": "code",
   "execution_count": 63,
   "id": "267c4069",
   "metadata": {},
   "outputs": [
    {
     "data": {
      "text/plain": [
       "['Seoul', 'Japan', 'Hiroshima', 'Nagashaki', 'South Korea']"
      ]
     },
     "execution_count": 63,
     "metadata": {},
     "output_type": "execute_result"
    }
   ],
   "source": [
    "small"
   ]
  },
  {
   "cell_type": "code",
   "execution_count": 64,
   "id": "e98c1751",
   "metadata": {},
   "outputs": [],
   "source": [
    "small.extend(Small)"
   ]
  },
  {
   "cell_type": "code",
   "execution_count": 65,
   "id": "3b7560f6",
   "metadata": {},
   "outputs": [
    {
     "data": {
      "text/plain": [
       "['Seoul',\n",
       " 'Japan',\n",
       " 'Hiroshima',\n",
       " 'Nagashaki',\n",
       " 'South Korea',\n",
       " 'Jaipur',\n",
       " 'Maharashtra']"
      ]
     },
     "execution_count": 65,
     "metadata": {},
     "output_type": "execute_result"
    }
   ],
   "source": [
    "small"
   ]
  }
 ],
 "metadata": {
  "kernelspec": {
   "display_name": "Python 3 (ipykernel)",
   "language": "python",
   "name": "python3"
  },
  "language_info": {
   "codemirror_mode": {
    "name": "ipython",
    "version": 3
   },
   "file_extension": ".py",
   "mimetype": "text/x-python",
   "name": "python",
   "nbconvert_exporter": "python",
   "pygments_lexer": "ipython3",
   "version": "3.11.3"
  }
 },
 "nbformat": 4,
 "nbformat_minor": 5
}
