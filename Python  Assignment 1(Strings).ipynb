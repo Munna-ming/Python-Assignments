{
 "cells": [
  {
   "cell_type": "markdown",
   "id": "0209946b",
   "metadata": {},
   "source": [
    "# Python Assignment 1(Data Types:Strings)"
   ]
  },
  {
   "cell_type": "markdown",
   "id": "926570ce",
   "metadata": {},
   "source": [
    "## Q1. Prompt the user to give their First Name, Last Name, email id and their course in which they are enrolled,and store them in different variables."
   ]
  },
  {
   "cell_type": "code",
   "execution_count": 2,
   "id": "f72a03c0",
   "metadata": {
    "scrolled": false
   },
   "outputs": [
    {
     "name": "stdout",
     "output_type": "stream",
     "text": [
      "enter first name: Munna\n",
      "enter last name: Kumar\n",
      "email id: Mingmunna@gmail.com\n",
      "course: Data science with python\n"
     ]
    }
   ],
   "source": [
    "firstname=input('enter first name: ')\n",
    "lastname=input('enter last name: ')\n",
    "emailid=input('email id: ')\n",
    "course=input('course: ')"
   ]
  },
  {
   "cell_type": "markdown",
   "id": "d2ad5777",
   "metadata": {},
   "source": [
    "## Q2. Print their First and Last name together in title case,email in lower case and course capitalized case in separate lines. (Hint: Use format strings or f strings)"
   ]
  },
  {
   "cell_type": "code",
   "execution_count": 4,
   "id": "b8d7896f",
   "metadata": {},
   "outputs": [
    {
     "name": "stdout",
     "output_type": "stream",
     "text": [
      "Munna Kumar\n",
      "mingmunna@gmail.com\n",
      "Data science with python\n"
     ]
    }
   ],
   "source": [
    "print(f'{firstname.title()} {lastname.title()}\\n{emailid.lower()}\\n{course.capitalize()}')\n"
   ]
  },
  {
   "cell_type": "markdown",
   "id": "56abfb94",
   "metadata": {},
   "source": [
    "## Q3.Prompt the user to enter their full name with title (Mr.,Mrs,Ms etc) and print title with capitalized and the name without the title,capitalized, in separate lines."
   ]
  },
  {
   "cell_type": "code",
   "execution_count": 5,
   "id": "b9bdd27a",
   "metadata": {},
   "outputs": [
    {
     "name": "stdout",
     "output_type": "stream",
     "text": [
      "Enter your name with title: mr.munna kumar\n"
     ]
    }
   ],
   "source": [
    "name=input('Enter your name with title: ')"
   ]
  },
  {
   "cell_type": "code",
   "execution_count": 6,
   "id": "a4381cdf",
   "metadata": {},
   "outputs": [
    {
     "data": {
      "text/plain": [
       "'Mr.munna kumar'"
      ]
     },
     "execution_count": 6,
     "metadata": {},
     "output_type": "execute_result"
    }
   ],
   "source": [
    "name.capitalize()"
   ]
  },
  {
   "cell_type": "code",
   "execution_count": 7,
   "id": "c5238d78",
   "metadata": {},
   "outputs": [
    {
     "data": {
      "text/plain": [
       "'Munna Kumar'"
      ]
     },
     "execution_count": 7,
     "metadata": {},
     "output_type": "execute_result"
    }
   ],
   "source": [
    "name[3:15].title()"
   ]
  },
  {
   "cell_type": "code",
   "execution_count": 8,
   "id": "2b0dbaee",
   "metadata": {},
   "outputs": [
    {
     "data": {
      "text/plain": [
       "'Munna Kumar'"
      ]
     },
     "execution_count": 8,
     "metadata": {},
     "output_type": "execute_result"
    }
   ],
   "source": [
    " name.removeprefix('mr.').title()"
   ]
  },
  {
   "cell_type": "code",
   "execution_count": 9,
   "id": "47838ad0",
   "metadata": {},
   "outputs": [
    {
     "data": {
      "text/plain": [
       "'Mr.'"
      ]
     },
     "execution_count": 9,
     "metadata": {},
     "output_type": "execute_result"
    }
   ],
   "source": [
    "name[0:3].title()"
   ]
  },
  {
   "cell_type": "markdown",
   "id": "6ec69dc3",
   "metadata": {},
   "source": [
    "## Q4.Below is a text extract. Each paragraph is separated by a new line (\\n). Separate the paragraphs.\n",
    "There was an old owl who lived in an oak tree. Every day, he observed incidents that occurred around\n",
    "him.\\nYesterday, he watched as a young boy helped an old man carry a heavy basket. Today, he saw a\n",
    "young girl shouting at her mother. The more he saw, the less he spoke.\\nAs the days went on, he spoke\n",
    "less but heard more. The old owl heard people talking and telling stories.\\nHe heard a woman saying\n",
    "an elephant jumped over a fence. He heard a man saying that he had never made a mistake.\\nThe old\n",
    "owl had seen and heard what happened to people. There were some who became better, some who\n",
    "became worse. But the old owl in the tree had become wiser, each and every day."
   ]
  },
  {
   "cell_type": "code",
   "execution_count": 10,
   "id": "3fa1b84f",
   "metadata": {},
   "outputs": [
    {
     "name": "stdout",
     "output_type": "stream",
     "text": [
      "There was an old owl who lived in an oak tree. Every day, he observed incidents that occurred around\n",
      "him.\n",
      "Yesterday, he watched as a young boy helped an old man carry a heavy basket. Today, he saw a\n",
      "young girl shouting at her mother. The more he saw, the less he spoke.\n",
      "As the days went on, he spoke\n",
      "less but heard more. The old owl heard people talking and telling stories.\n",
      "He heard a woman saying\n",
      "an elephant jumped over a fence. He heard a man saying that he had never made a mistake.\n",
      "The old\n",
      "owl had seen and heard what happened to people. There were some who became better, some who\n",
      "became worse. But the old owl in the tree had become wiser, each and every day.\n"
     ]
    }
   ],
   "source": [
    "text= \"\"\"There was an old owl who lived in an oak tree. Every day, he observed incidents that occurred around\n",
    "him.\\nYesterday, he watched as a young boy helped an old man carry a heavy basket. Today, he saw a\n",
    "young girl shouting at her mother. The more he saw, the less he spoke.\\nAs the days went on, he spoke\n",
    "less but heard more. The old owl heard people talking and telling stories.\\nHe heard a woman saying\n",
    "an elephant jumped over a fence. He heard a man saying that he had never made a mistake.\\nThe old\n",
    "owl had seen and heard what happened to people. There were some who became better, some who\n",
    "became worse. But the old owl in the tree had become wiser, each and every day.\"\"\"\n",
    "print(text)\n",
    "\n"
   ]
  },
  {
   "cell_type": "markdown",
   "id": "9d861655",
   "metadata": {},
   "source": [
    "## Q5.Below is a text extract. The cases are jumbled. Convert the text cases into title form . Then each paragraph is separated by a new line (\\n). Separate the paragraphs.\n",
    "oNcE upoN A tIMe, iN a mYsTeRIouS fOrEst, tHEre wAS aN aDvEnTuRoUS yOUnG gIRL\n",
    "nAMeD aLICe. ShE wAS aLwAyS cURiOuS aBOuT eVErYtHInG aNd cOULd nEvEr rESiST\n",
    "eXPlORiNg nEW pLaCeS.\\nOnE dAy, wHilE wANdErInG tHroUGh tHE fOrEsT, aLICe cAMe\n",
    "aCRoSS a tInY dOoR tHaT wAs hIdDEn bEHinD sOmE bUShES. sHE cOuLdN't rESisT hER\n",
    "cUriOSItY aNd dEcIDeD tO oPeN tHe dOOr. tO hER aMaZEmeNT, tHe dOoR lEd tO a\n",
    "mAGiCaL wORlD!\\nThE nEw wOrLd wAs fIlLeD wItH bRiGhT cOlOrS aNd sTRaNge\n",
    "cReAtuReS. aLiCe mEt a tALkiNg rAbBiT wHo cArRiEd a pOcKet wATcH aNd wAs aLwAyS iN a\n",
    "hURrY. sHE fOLLoWEd tHe rAbBiT aNd eMbArKEd oN a sErIeS oF uNfORsEeN\n",
    "aDvEnTuReS.\\nIn hER jOuRnEy, aLiCe eNcOUnteReD a cHEsHirE cAT, wHo gRAcEd hER\n",
    "wITh a mYsTErIoUs sMiLe aND sPoKe iN rIDDles. sHe aLsO hELpEd a gRoUP oF tEa cUps aNd\n",
    "tEa pOtS hAVe a tEa pARtY, wHicH wAs qUiTe tHE uNusUal sIgHt tO sEE! \n"
   ]
  },
  {
   "cell_type": "code",
   "execution_count": 11,
   "id": "df45ab70",
   "metadata": {},
   "outputs": [
    {
     "name": "stdout",
     "output_type": "stream",
     "text": [
      "\"Once Upon A Time, In A Mysterious Forest, There Was An Adventurous Young Girl Named Alice.\n",
      "She Was Always Curious About Everything And Could Never Resist Exploring New Places.\n",
      "One Day, While Wandering Through The Forest, Alice Came\n",
      "Across A Tiny Door That Was Hidden Behind Some Bushes. She Couldn'T Resist Hercuriosity And Decided To Open The Door. To Her Amazement, The Door Led To Amagical World!\n",
      "The New World Was Filled With Bright Colors And Strange\n",
      "Creatures. Alice Met A Talking Rabbit Who Carried A Pocket Watch And Was Always In Ahurry. She Followed The Rabbit And Embarked On A Series Of Unforseen\n",
      "Adventures.\n",
      "In Her Journey, Alice Encountered A Cheshire Cat, Who Graced Herwith A Mysterious Smile And Spoke In Riddles. She Also Helped A Group Of Tea Cups And\n",
      "Tea Pots Have A Tea Party, Which Was Quite The Unusual Sight To See! \n"
     ]
    }
   ],
   "source": [
    "text = \"\"\"\"oNcE upoN A tIMe, iN a mYsTeRIouS fOrEst, tHEre wAS aN aDvEnTuRoUS yOUnG gIRL nAMeD aLICe.\n",
    "ShE wAS aLwAyS cURiOuS aBOuT eVErYtHInG aNd cOULd nEvEr rESiST eXPlORiNg nEW pLaCeS.\\nOnE dAy, wHilE wANdErInG tHroUGh tHE fOrEsT, aLICe cAMe\n",
    "aCRoSS a tInY dOoR tHaT wAs hIdDEn bEHinD sOmE bUShES. sHE cOuLdN't rESisT hERcUriOSItY aNd dEcIDeD tO oPeN tHe dOOr. tO hER aMaZEmeNT, tHe dOoR lEd tO amAGiCaL wORlD!\\nThE nEw wOrLd wAs fIlLeD wItH bRiGhT cOlOrS aNd sTRaNge\n",
    "cReAtuReS. aLiCe mEt a tALkiNg rAbBiT wHo cArRiEd a pOcKet wATcH aNd wAs aLwAyS iN ahURrY. sHE fOLLoWEd tHe rAbBiT aNd eMbArKEd oN a sErIeS oF uNfORsEeN\n",
    "aDvEnTuReS.\\nIn hER jOuRnEy, aLiCe eNcOUnteReD a cHEsHirE cAT, wHo gRAcEd hERwITh a mYsTErIoUs sMiLe aND sPoKe iN rIDDles. sHe aLsO hELpEd a gRoUP oF tEa cUps aNd\n",
    "tEa pOtS hAVe a tEa pARtY, wHicH wAs qUiTe tHE uNusUal sIgHt tO sEE! \"\"\"\n",
    "print(text.title())\n"
   ]
  },
  {
   "cell_type": "markdown",
   "id": "888311f0",
   "metadata": {},
   "source": [
    "## Q6.Below is an extract about BMW’s presence in India. Count the word “Indian” in the text:\n",
    "BMW, a renowned German automotive manufacturer, has left an indelible mark on the Indian\n",
    "automotive landscape. With its striking designs and innovative engineering, BMW has become a\n",
    "symbol of luxury and performance in the Indian market. Indian consumers have wholeheartedly\n",
    "embraced the brand, appreciating its cutting-edge technology, comfort, and style. The BMW brand\n",
    "exudes an air of exclusivity and sophistication, appealing to the discerning Indian clientele who seek\n",
    "nothing but the best. Over the years, BMW has tailored its oerings to cater to the diverse tastes and\n",
    "preferences of the Indian populace, solidifying its position as a leading luxury carmaker in the country.\n",
    "Whether navigating bustling city streets or cruising along picturesque highways, the presence of a\n",
    "BMW on Indian roads commands attention and admiration, reecting the brand's strong allure and\n",
    "timeless appeal to the Indian automotive enthusiast."
   ]
  },
  {
   "cell_type": "code",
   "execution_count": 12,
   "id": "4f41ecce",
   "metadata": {},
   "outputs": [
    {
     "name": "stdout",
     "output_type": "stream",
     "text": [
      "7\n"
     ]
    }
   ],
   "source": [
    "text = \"\"\"BMW, a renowned German automotive manufacturer, has left an indelible mark on the Indian\n",
    "automotive landscape. With its striking designs and innovative engineering, BMW has become a\n",
    "symbol of luxury and performance in the Indian market. Indian consumers have wholeheartedly\n",
    "embraced the brand, appreciating its cutting-edge technology, comfort, and style. The BMW brand\n",
    "exudes an air of exclusivity and sophistication, appealing to the discerning Indian clientele who seek\n",
    "nothing but the best. Over the years, BMW has tailored its offerings to cater to the diverse tastes and \n",
    "preferences of the Indian populace, solidifying its position as a leading luxury carmaker in the country. \n",
    "Wheather navigating bustling city streets or cruising along picturesque highways, the presence of a BMW on \n",
    "Indian roads commands attension and admiration, reflecting the brand's strong allure and timeless appeal to\n",
    "the Indian automotive enthusiast.\"\"\"\n",
    "print(text.count('Indian'))"
   ]
  },
  {
   "cell_type": "markdown",
   "id": "e5ba271c",
   "metadata": {},
   "source": [
    "## Q7. Below is an extract from a short story. The words are separated by ++. Clean the text and separate the words with spaces.\n",
    "Once++upon++a++time,++there++was++a++brave++knight++named++Sir++Arthur.++He++liv\n",
    "ed++in++a++mighty++castle++on++top++of++a++steep++hill.++Sir++Arthur++was++known+\n",
    "+for++his++fearlessness++and++his++sword++skills.++He++had++a++loyal++horse++named++\n",
    "Thunder++and++a++wise++mentor++named++Merlin.++Together++they++embarked++on++m\n",
    "any++adventures++and++fought++erce++dragons++to++protect++the++kingdom.++Sir++Arth\n",
    "ur's++courageous++deeds++became++legendary++and++inspired++generations++to++come.\n"
   ]
  },
  {
   "cell_type": "code",
   "execution_count": 13,
   "id": "6ba511c5",
   "metadata": {},
   "outputs": [
    {
     "name": "stdout",
     "output_type": "stream",
     "text": [
      "Once upon a time, there was a brave knight named Sir Arthur. He \n",
      "lived in a mighty castle on top of a steep hill. Sir Arthur was known \n",
      "for his fearlessness and his sword skills. He had a loyal horse named \n",
      "Thunder and a wise mentor named Merlin. Together they embarked on \n",
      "many adventures and fought fierce dragons to protect the kingdom. Sir \n",
      "Arthur's courageous deeds became legendary and inspired generations to come.\n"
     ]
    }
   ],
   "source": [
    "text = \"\"\"Once++upon++a++time,++there++was++a++brave++knight++named++Sir++Arthur.++He++\n",
    "lived++in++a++mighty++castle++on++top++of++a++steep++hill.++Sir++Arthur++was++known++\n",
    "for++his++fearlessness++and++his++sword++skills.++He++had++a++loyal++horse++named++\n",
    "Thunder++and++a++wise++mentor++named++Merlin.++Together++they++embarked++on++\n",
    "many++adventures++and++fought++fierce++dragons++to++protect++the++kingdom.++Sir++\n",
    "Arthur's++courageous++deeds++became++legendary++and++inspired++generations++to++come.\"\"\"\n",
    "print(text.replace('++',' '))"
   ]
  }
 ],
 "metadata": {
  "kernelspec": {
   "display_name": "Python 3 (ipykernel)",
   "language": "python",
   "name": "python3"
  },
  "language_info": {
   "codemirror_mode": {
    "name": "ipython",
    "version": 3
   },
   "file_extension": ".py",
   "mimetype": "text/x-python",
   "name": "python",
   "nbconvert_exporter": "python",
   "pygments_lexer": "ipython3",
   "version": "3.11.3"
  }
 },
 "nbformat": 4,
 "nbformat_minor": 5
}
