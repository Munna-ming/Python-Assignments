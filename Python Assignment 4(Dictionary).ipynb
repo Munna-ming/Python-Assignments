{
 "cells": [
  {
   "cell_type": "markdown",
   "id": "7805a614",
   "metadata": {},
   "source": [
    "# Data types: Dictionary"
   ]
  },
  {
   "cell_type": "markdown",
   "id": "775a2f5e",
   "metadata": {},
   "source": [
    "# Q. Copy the following code in one cell and run in your Notebook to Enter entries. Enter any 5 random Entries.\n",
    " book = {} \n",
    " def info_book(): \n",
    "\"\"\"Creates a phone book with names as key and a list of dictionaries as values\"\"\" \n",
    " while True: \n",
    "names = input('Please enter the First and Last name separated by space (or type \"exit\" to quit): ') \n",
    " if names.lower() == 'exit': \n",
    " break \n",
    " number = input('Please enter the phone number: ') \n",
    " address = input('Please enter your location: ') \n",
    " full_name = \" \".join(names.split()) \n",
    " #Check if the full name exists in the phone book \n",
    " if full_name in book: \n",
    " #If the name exists , append the new entry to the existing list of entries \n",
    " book[full_name].append({ 'address' : address, 'number' : number }) \n",
    " else : \n",
    " #If the name does not exist, create a new entry with a list containing the dictionary \n",
    " book[full_name] = [{ 'address' : address, 'number' : number }] \n",
    " return book \n",
    " info_book() \n",
    "# The above code returns a dictionary named ‘book’ which has Names as key and number and address as values. Use this to generate random entries of at least 5 people. After entering the data, you can look/access the dictionary by using the variable name ‘book’"
   ]
  },
  {
   "cell_type": "code",
   "execution_count": 28,
   "id": "ff10019c",
   "metadata": {},
   "outputs": [
    {
     "name": "stdout",
     "output_type": "stream",
     "text": [
      "Please enter the First and Last name separated by space (or type \"exit\" to quit): Rahul Kumar\n",
      "Please enter the phone number: 1111111111\n",
      "Please enter your location: Delhi\n",
      "Please enter the First and Last name separated by space (or type \"exit\" to quit): Vikram Kumar\n",
      "Please enter the phone number: 2222222222\n",
      "Please enter your location: Rajasthan\n",
      "Please enter the First and Last name separated by space (or type \"exit\" to quit): Ravi Kumar\n",
      "Please enter the phone number: 33333333333\n",
      "Please enter your location: Haryana Kumar\n",
      "Please enter the First and Last name separated by space (or type \"exit\" to quit): Vinod Kumar\n",
      "Please enter the phone number: 44444444444\n",
      "Please enter your location: Himachal\n",
      "Please enter the First and Last name separated by space (or type \"exit\" to quit): Sohan Kumar\n",
      "Please enter the phone number: 5555555555\n",
      "Please enter your location: Telangana\n",
      "Please enter the First and Last name separated by space (or type \"exit\" to quit): exit\n"
     ]
    },
    {
     "data": {
      "text/plain": [
       "{'Rahul Kumar': [{'address': 'Delhi', 'number': '1111111111'}],\n",
       " 'Vikram Kumar': [{'address': 'Rajasthan', 'number': '2222222222'}],\n",
       " 'Ravi Kumar': [{'address': 'Haryana Kumar', 'number': '33333333333'}],\n",
       " 'Vinod Kumar': [{'address': 'Himachal', 'number': '44444444444'}],\n",
       " 'Sohan Kumar': [{'address': 'Telangana', 'number': '5555555555'}]}"
      ]
     },
     "execution_count": 28,
     "metadata": {},
     "output_type": "execute_result"
    }
   ],
   "source": [
    "book = {} \n",
    "def info_book(): \n",
    "    \"\"\"Creates a phone book with names as key and a list of dictionaries as values\"\"\" \n",
    "    while True: \n",
    "        names = input('Please enter the First and Last name separated by space (or type \"exit\" to quit): ') \n",
    "        if names.lower() == 'exit': \n",
    "            break \n",
    "            \n",
    "        number = input('Please enter the phone number: ') \n",
    "        address = input('Please enter your location: ') \n",
    "        \n",
    "        full_name = \" \".join(names.split()) \n",
    "        \n",
    "        # Check if the full name exists in the phone book \n",
    "        if full_name in book: \n",
    "            # If the name exists , append the new entry to the existing list of entries \n",
    "            book[full_name].append({ 'address' : address, 'number' : number }) \n",
    "        else : \n",
    "            # If the name does not exist, create a new entry with a list containing the dictionary \n",
    "            book[full_name] = [{ 'address' : address, 'number' : number }] \n",
    "    return book \n",
    "info_book() "
   ]
  },
  {
   "cell_type": "code",
   "execution_count": 29,
   "id": "68ae7c41",
   "metadata": {},
   "outputs": [
    {
     "data": {
      "text/plain": [
       "{'Rahul Kumar': [{'address': 'Delhi', 'number': '1111111111'}],\n",
       " 'Vikram Kumar': [{'address': 'Rajasthan', 'number': '2222222222'}],\n",
       " 'Ravi Kumar': [{'address': 'Haryana Kumar', 'number': '33333333333'}],\n",
       " 'Vinod Kumar': [{'address': 'Himachal', 'number': '44444444444'}],\n",
       " 'Sohan Kumar': [{'address': 'Telangana', 'number': '5555555555'}]}"
      ]
     },
     "execution_count": 29,
     "metadata": {},
     "output_type": "execute_result"
    }
   ],
   "source": [
    "book"
   ]
  },
  {
   "cell_type": "markdown",
   "id": "916498ff",
   "metadata": {},
   "source": [
    "# Answer the following with reference to the dictionary formed by the above code."
   ]
  },
  {
   "cell_type": "markdown",
   "id": "52a15f6a",
   "metadata": {},
   "source": [
    "# Q1. Print all the names in the above dictionary."
   ]
  },
  {
   "cell_type": "code",
   "execution_count": 30,
   "id": "4757b50a",
   "metadata": {},
   "outputs": [
    {
     "name": "stdout",
     "output_type": "stream",
     "text": [
      "dict_keys(['Rahul Kumar', 'Vikram Kumar', 'Ravi Kumar', 'Vinod Kumar', 'Sohan Kumar'])\n"
     ]
    }
   ],
   "source": [
    "print(book.keys())"
   ]
  },
  {
   "cell_type": "markdown",
   "id": "e3cc0008",
   "metadata": {},
   "source": [
    "# Q2. Print all the values associated with the names."
   ]
  },
  {
   "cell_type": "code",
   "execution_count": 31,
   "id": "7b8ff3bb",
   "metadata": {},
   "outputs": [
    {
     "name": "stdout",
     "output_type": "stream",
     "text": [
      "dict_values([[{'address': 'Delhi', 'number': '1111111111'}], [{'address': 'Rajasthan', 'number': '2222222222'}], [{'address': 'Haryana Kumar', 'number': '33333333333'}], [{'address': 'Himachal', 'number': '44444444444'}], [{'address': 'Telangana', 'number': '5555555555'}]])\n"
     ]
    }
   ],
   "source": [
    "print(book.values())"
   ]
  },
  {
   "cell_type": "markdown",
   "id": "5bf7d805",
   "metadata": {},
   "source": [
    "# Q3. You want to enter one more Name but the number and address are not known yet. Add the new name with no values in the above dictionary."
   ]
  },
  {
   "cell_type": "code",
   "execution_count": 32,
   "id": "9a6b6d89",
   "metadata": {},
   "outputs": [],
   "source": [
    "book['Rani Kumar']= [{'address': None, 'number': None}]"
   ]
  },
  {
   "cell_type": "code",
   "execution_count": 33,
   "id": "74f25ffb",
   "metadata": {},
   "outputs": [
    {
     "data": {
      "text/plain": [
       "{'Rahul Kumar': [{'address': 'Delhi', 'number': '1111111111'}],\n",
       " 'Vikram Kumar': [{'address': 'Rajasthan', 'number': '2222222222'}],\n",
       " 'Ravi Kumar': [{'address': 'Haryana Kumar', 'number': '33333333333'}],\n",
       " 'Vinod Kumar': [{'address': 'Himachal', 'number': '44444444444'}],\n",
       " 'Sohan Kumar': [{'address': 'Telangana', 'number': '5555555555'}],\n",
       " 'Rani Kumar': [{'address': None, 'number': None}]}"
      ]
     },
     "execution_count": 33,
     "metadata": {},
     "output_type": "execute_result"
    }
   ],
   "source": [
    "book"
   ]
  },
  {
   "cell_type": "markdown",
   "id": "c8277693",
   "metadata": {},
   "source": [
    "# Q4. Add a candidate with the name ‘Matt Daemon’ whose number is 555010898 and lives in Pune to the book dictionary."
   ]
  },
  {
   "cell_type": "code",
   "execution_count": 34,
   "id": "76343a50",
   "metadata": {},
   "outputs": [],
   "source": [
    "book['Matt Daemon']=[{'address':'Pune','number':'555010898'}]"
   ]
  },
  {
   "cell_type": "code",
   "execution_count": 35,
   "id": "cedc11eb",
   "metadata": {},
   "outputs": [
    {
     "data": {
      "text/plain": [
       "{'Rahul Kumar': [{'address': 'Delhi', 'number': '1111111111'}],\n",
       " 'Vikram Kumar': [{'address': 'Rajasthan', 'number': '2222222222'}],\n",
       " 'Ravi Kumar': [{'address': 'Haryana Kumar', 'number': '33333333333'}],\n",
       " 'Vinod Kumar': [{'address': 'Himachal', 'number': '44444444444'}],\n",
       " 'Sohan Kumar': [{'address': 'Telangana', 'number': '5555555555'}],\n",
       " 'Rani Kumar': [{'address': None, 'number': None}],\n",
       " 'Matt Daemon': [{'address': 'Pune', 'number': '555010898'}]}"
      ]
     },
     "execution_count": 35,
     "metadata": {},
     "output_type": "execute_result"
    }
   ],
   "source": [
    "book"
   ]
  },
  {
   "cell_type": "markdown",
   "id": "ddfcf979",
   "metadata": {},
   "source": [
    "# Q5. Matt Daemon has relocated to New York and his new number is 444333888. Change his number and address in the dictionary."
   ]
  },
  {
   "cell_type": "code",
   "execution_count": 37,
   "id": "88db7f6f",
   "metadata": {},
   "outputs": [],
   "source": [
    "book['Matt Daemon']=[{'address': 'New York', 'number': '444333888'}]"
   ]
  },
  {
   "cell_type": "code",
   "execution_count": 38,
   "id": "61999f39",
   "metadata": {},
   "outputs": [
    {
     "data": {
      "text/plain": [
       "{'Rahul Kumar': [{'address': 'Delhi', 'number': '1111111111'}],\n",
       " 'Vikram Kumar': [{'address': 'Rajasthan', 'number': '2222222222'}],\n",
       " 'Ravi Kumar': [{'address': 'Haryana Kumar', 'number': '33333333333'}],\n",
       " 'Vinod Kumar': [{'address': 'Himachal', 'number': '44444444444'}],\n",
       " 'Sohan Kumar': [{'address': 'Telangana', 'number': '5555555555'}],\n",
       " 'Rani Kumar': [{'address': None, 'number': None}],\n",
       " 'Matt Daemon': [{'address': 'New York', 'number': '444333888'}]}"
      ]
     },
     "execution_count": 38,
     "metadata": {},
     "output_type": "execute_result"
    }
   ],
   "source": [
    "book"
   ]
  },
  {
   "cell_type": "markdown",
   "id": "11d63f94",
   "metadata": {},
   "source": [
    "# Q6. Given below is another information stored in dictionary made by your colleague. Add/Merge these values to you existing book dictionary.\n",
    "{'Jon Snow': [{'address': 'Sydney', 'number': '500600700'}],\n",
    "'Thomas Shelby': [{'address': 'Birmingham', 'number': '888000111'}],\n",
    " 'Alex Botez': [{'address': 'California', 'number': '464555202'}],\n",
    " 'Vidit Gujarati': [{'address': 'Mumbai', 'number': '7711155530'}],\n",
    " 'Manasi Joshi': [{'address': 'Delhi', 'number': '8000500023'}]}"
   ]
  },
  {
   "cell_type": "code",
   "execution_count": 43,
   "id": "11099fb5",
   "metadata": {},
   "outputs": [],
   "source": [
    "book1={'Jon Snow'      : [{'address': 'Sydney', 'number': '500600700'}],\n",
    "       'Thomas Shelby' : [{'address': 'Birmingham', 'number': '888000111'}],\n",
    "       'Alex Botez'    : [{'address': 'California', 'number': '464555202'}],\n",
    "       'Vidit Gujarati': [{'address': 'Mumbai', 'number': '7711155530'}],\n",
    "       'Manasi Joshi'  : [{'address': 'Delhi', 'number': '8000500023'}]}"
   ]
  },
  {
   "cell_type": "code",
   "execution_count": 44,
   "id": "0f1c628e",
   "metadata": {},
   "outputs": [
    {
     "data": {
      "text/plain": [
       "{'Jon Snow': [{'address': 'Sydney', 'number': '500600700'}],\n",
       " 'Thomas Shelby': [{'address': 'Birmingham', 'number': '888000111'}],\n",
       " 'Alex Botez': [{'address': 'California', 'number': '464555202'}],\n",
       " 'Vidit Gujarati': [{'address': 'Mumbai', 'number': '7711155530'}],\n",
       " 'Manasi Joshi': [{'address': 'Delhi', 'number': '8000500023'}]}"
      ]
     },
     "execution_count": 44,
     "metadata": {},
     "output_type": "execute_result"
    }
   ],
   "source": [
    "book1"
   ]
  },
  {
   "cell_type": "code",
   "execution_count": 45,
   "id": "d07521fc",
   "metadata": {},
   "outputs": [],
   "source": [
    "book.update(book1)"
   ]
  },
  {
   "cell_type": "code",
   "execution_count": 46,
   "id": "3e42f6b5",
   "metadata": {},
   "outputs": [
    {
     "data": {
      "text/plain": [
       "{'Rahul Kumar': [{'address': 'Delhi', 'number': '1111111111'}],\n",
       " 'Vikram Kumar': [{'address': 'Rajasthan', 'number': '2222222222'}],\n",
       " 'Ravi Kumar': [{'address': 'Haryana Kumar', 'number': '33333333333'}],\n",
       " 'Vinod Kumar': [{'address': 'Himachal', 'number': '44444444444'}],\n",
       " 'Sohan Kumar': [{'address': 'Telangana', 'number': '5555555555'}],\n",
       " 'Rani Kumar': [{'address': None, 'number': None}],\n",
       " 'Matt Daemon': [{'address': 'New York', 'number': '444333888'}],\n",
       " 'Jon Snow': [{'address': 'Sydney', 'number': '500600700'}],\n",
       " 'Thomas Shelby': [{'address': 'Birmingham', 'number': '888000111'}],\n",
       " 'Alex Botez': [{'address': 'California', 'number': '464555202'}],\n",
       " 'Vidit Gujarati': [{'address': 'Mumbai', 'number': '7711155530'}],\n",
       " 'Manasi Joshi': [{'address': 'Delhi', 'number': '8000500023'}]}"
      ]
     },
     "execution_count": 46,
     "metadata": {},
     "output_type": "execute_result"
    }
   ],
   "source": [
    "book"
   ]
  },
  {
   "cell_type": "markdown",
   "id": "3728c698",
   "metadata": {},
   "source": [
    "# Q7. Jon Snow has ended membership from your organization. Remove his entry and details from your dictionary."
   ]
  },
  {
   "cell_type": "code",
   "execution_count": 58,
   "id": "1d17297f",
   "metadata": {},
   "outputs": [
    {
     "data": {
      "text/plain": [
       "{'Rahul Kumar': [{'address': 'Delhi', 'number': '1111111111'}],\n",
       " 'Vikram Kumar': [{'address': 'Rajasthan', 'number': '2222222222'}],\n",
       " 'Ravi Kumar': [{'address': 'Haryana Kumar', 'number': '33333333333'}],\n",
       " 'Vinod Kumar': [{'address': 'Himachal', 'number': '44444444444'}],\n",
       " 'Sohan Kumar': [{'address': 'Telangana', 'number': '5555555555'}],\n",
       " 'Rani Kumar': [{'address': None, 'number': None}],\n",
       " 'Matt Daemon': [{'address': 'New York', 'number': '444333888'}],\n",
       " 'Jon Snow': [{'address': 'Sydney', 'number': '500600700'}],\n",
       " 'Thomas Shelby': [{'address': 'Birmingham', 'number': '888000111'}],\n",
       " 'Alex Botez': [{'address': 'California', 'number': '464555202'}],\n",
       " 'Vidit Gujarati': [{'address': 'Mumbai', 'number': '7711155530'}],\n",
       " 'Manasi Joshi': [{'address': 'Delhi', 'number': '8000500023'}]}"
      ]
     },
     "execution_count": 58,
     "metadata": {},
     "output_type": "execute_result"
    }
   ],
   "source": [
    "book"
   ]
  },
  {
   "cell_type": "code",
   "execution_count": 59,
   "id": "346b7aeb",
   "metadata": {},
   "outputs": [
    {
     "data": {
      "text/plain": [
       "[{'address': 'Sydney', 'number': '500600700'}]"
      ]
     },
     "execution_count": 59,
     "metadata": {},
     "output_type": "execute_result"
    }
   ],
   "source": [
    "book.pop('Jon Snow')"
   ]
  },
  {
   "cell_type": "code",
   "execution_count": 60,
   "id": "c7f6cf48",
   "metadata": {},
   "outputs": [
    {
     "data": {
      "text/plain": [
       "{'Rahul Kumar': [{'address': 'Delhi', 'number': '1111111111'}],\n",
       " 'Vikram Kumar': [{'address': 'Rajasthan', 'number': '2222222222'}],\n",
       " 'Ravi Kumar': [{'address': 'Haryana Kumar', 'number': '33333333333'}],\n",
       " 'Vinod Kumar': [{'address': 'Himachal', 'number': '44444444444'}],\n",
       " 'Sohan Kumar': [{'address': 'Telangana', 'number': '5555555555'}],\n",
       " 'Rani Kumar': [{'address': None, 'number': None}],\n",
       " 'Matt Daemon': [{'address': 'New York', 'number': '444333888'}],\n",
       " 'Thomas Shelby': [{'address': 'Birmingham', 'number': '888000111'}],\n",
       " 'Alex Botez': [{'address': 'California', 'number': '464555202'}],\n",
       " 'Vidit Gujarati': [{'address': 'Mumbai', 'number': '7711155530'}],\n",
       " 'Manasi Joshi': [{'address': 'Delhi', 'number': '8000500023'}]}"
      ]
     },
     "execution_count": 60,
     "metadata": {},
     "output_type": "execute_result"
    }
   ],
   "source": [
    "book"
   ]
  },
  {
   "cell_type": "markdown",
   "id": "faa1ae5d",
   "metadata": {},
   "source": [
    "# Q8. Check/Print how many entries you have in your dictionary."
   ]
  },
  {
   "cell_type": "code",
   "execution_count": 61,
   "id": "9f6e8274",
   "metadata": {},
   "outputs": [
    {
     "data": {
      "text/plain": [
       "11"
      ]
     },
     "execution_count": 61,
     "metadata": {},
     "output_type": "execute_result"
    }
   ],
   "source": [
    "len(book)"
   ]
  }
 ],
 "metadata": {
  "kernelspec": {
   "display_name": "Python 3 (ipykernel)",
   "language": "python",
   "name": "python3"
  },
  "language_info": {
   "codemirror_mode": {
    "name": "ipython",
    "version": 3
   },
   "file_extension": ".py",
   "mimetype": "text/x-python",
   "name": "python",
   "nbconvert_exporter": "python",
   "pygments_lexer": "ipython3",
   "version": "3.11.3"
  }
 },
 "nbformat": 4,
 "nbformat_minor": 5
}
