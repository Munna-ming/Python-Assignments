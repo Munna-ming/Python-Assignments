{
 "cells": [
  {
   "cell_type": "markdown",
   "id": "8734d9fe",
   "metadata": {},
   "source": [
    "# Q1. Write a python program to convert a date of yyyy-mm-dd format to dd-mm-yyyy format."
   ]
  },
  {
   "cell_type": "code",
   "execution_count": 6,
   "id": "8811c653",
   "metadata": {},
   "outputs": [
    {
     "name": "stdout",
     "output_type": "stream",
     "text": [
      "Current date: 2023-10-26 02:37:04.273459\n",
      "New date: 26-10-2023\n"
     ]
    }
   ],
   "source": [
    "from datetime import datetime\n",
    "\n",
    "t = datetime.today()\n",
    "print('Current date:',t)\n",
    "\n",
    "r = t.strftime(\"%d-%m-%Y\")\n",
    "print('New date:',r)"
   ]
  },
  {
   "cell_type": "markdown",
   "id": "a01a9043",
   "metadata": {},
   "source": [
    "# Q2. Write a python program that matches a string that has an a followed by two to three 'b'."
   ]
  },
  {
   "cell_type": "code",
   "execution_count": 12,
   "id": "cd1d04d4",
   "metadata": {},
   "outputs": [
    {
     "name": "stdout",
     "output_type": "stream",
     "text": [
      "Match: abb\n",
      "Match: abbb\n",
      "Match: abbb\n",
      "Match: abb\n"
     ]
    }
   ],
   "source": [
    "import re\n",
    "\n",
    "txt = 'ab  abb abbb  accb abbbb abb'\n",
    "pattern = r'a[b]{2,3}'\n",
    "\n",
    "matches = re.findall(pattern,txt)\n",
    "\n",
    "for match in matches:\n",
    "    print(\"Match:\", match)"
   ]
  },
  {
   "cell_type": "markdown",
   "id": "4467973b",
   "metadata": {},
   "source": [
    "# Q3. Write a python program to search for numbers (0-9) of length between 1 and 3 in a given string."
   ]
  },
  {
   "cell_type": "code",
   "execution_count": 13,
   "id": "ddd25e89",
   "metadata": {},
   "outputs": [
    {
     "name": "stdout",
     "output_type": "stream",
     "text": [
      "Search: 123\n",
      "Search: 2\n",
      "Search: 178\n",
      "Search: 7\n",
      "Search: 167\n"
     ]
    }
   ],
   "source": [
    "import re\n",
    "\n",
    "txt = \"arr123 df2 df178 ar7 adf167\"\n",
    "pattern = \"[0-9]{1,3}\"\n",
    "\n",
    "searches = re.findall(pattern,txt)\n",
    "\n",
    "for search in searches:\n",
    "    print(\"Search:\",search)"
   ]
  },
  {
   "cell_type": "markdown",
   "id": "d5d2cd47",
   "metadata": {},
   "source": [
    "# Q4. Write a python program to validate the email id according to given condition\n",
    "\n",
    ": Must start with at least one or more alphabets/digits/numbers or special characters($%#&*_.) followed by @, then again one or more occurrence of alphabets followed by ’.’ and at last ends with minimum 2 alphabets.\n",
    "Eg: pooja_comp@gmail.in\n",
    "Xyz.pqr@abc.org\n",
    "\n"
   ]
  },
  {
   "cell_type": "code",
   "execution_count": 34,
   "id": "b82eb8a6",
   "metadata": {},
   "outputs": [
    {
     "name": "stdout",
     "output_type": "stream",
     "text": [
      "Enter email: ming_king@gmail.com\n",
      "Email Valid!\n"
     ]
    }
   ],
   "source": [
    "import re\n",
    "\n",
    "pattern = r\"^[\\w$%#&*_.]+@[a-zA-Z]+\\.[a-zA-Z]{2}\"\n",
    "\n",
    "txt = input(\"Enter email: \")\n",
    "\n",
    "if re.search(pattern,txt):\n",
    "     print(\"Email Valid!\")\n",
    "else:\n",
    "    print(\"Email invalid!\")"
   ]
  },
  {
   "cell_type": "markdown",
   "id": "3a8106a9",
   "metadata": {},
   "source": [
    "# Q5. Write a Python program to validate the password having minimum 8 characters long, contains any dort of letters,numbers, $#@% and ends with a number."
   ]
  },
  {
   "cell_type": "code",
   "execution_count": 32,
   "id": "26601347",
   "metadata": {},
   "outputs": [
    {
     "name": "stdout",
     "output_type": "stream",
     "text": [
      "Enter password: fghj56%9\n",
      "Password Valid!\n"
     ]
    }
   ],
   "source": [
    "import re\n",
    "\n",
    "pattern = r\"\\w+[$#@%]+\\d+$\"\n",
    "\n",
    "txt = input(\"Enter password: \")\n",
    "\n",
    "if re.search(pattern,txt):\n",
    "    print(\"Password Valid!\")\n",
    "else:\n",
    "    print(\"Password invalid!\")"
   ]
  },
  {
   "cell_type": "code",
   "execution_count": null,
   "id": "c861bec1",
   "metadata": {},
   "outputs": [],
   "source": []
  }
 ],
 "metadata": {
  "kernelspec": {
   "display_name": "Python 3 (ipykernel)",
   "language": "python",
   "name": "python3"
  },
  "language_info": {
   "codemirror_mode": {
    "name": "ipython",
    "version": 3
   },
   "file_extension": ".py",
   "mimetype": "text/x-python",
   "name": "python",
   "nbconvert_exporter": "python",
   "pygments_lexer": "ipython3",
   "version": "3.11.3"
  }
 },
 "nbformat": 4,
 "nbformat_minor": 5
}
